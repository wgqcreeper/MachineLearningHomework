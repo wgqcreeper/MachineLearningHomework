{
 "cells": [
  {
   "cell_type": "code",
   "execution_count": 2,
   "id": "c6b1d52b",
   "metadata": {
    "ExecuteTime": {
     "end_time": "2022-11-04T12:25:34.624271Z",
     "start_time": "2022-11-04T12:25:32.041926Z"
    }
   },
   "outputs": [],
   "source": [
    "import pandas as pd\n",
    "from matplotlib.pyplot import plot, show\n",
    "from seaborn import heatmap"
   ]
  },
  {
   "cell_type": "markdown",
   "id": "f9a27fef",
   "metadata": {},
   "source": [
    "# 将四个模型的运行结果导入"
   ]
  },
  {
   "cell_type": "code",
   "execution_count": 3,
   "id": "c6d7689a",
   "metadata": {
    "ExecuteTime": {
     "end_time": "2022-11-04T12:25:34.672281Z",
     "start_time": "2022-11-04T12:25:34.626271Z"
    }
   },
   "outputs": [],
   "source": [
    "ans1 = pd.read_csv('ans/lgb_5285.csv')\n",
    "ans2 = pd.read_csv('ans/lgb_5272.csv')\n",
    "ans3 = pd.read_csv('ans/submit28.csv')\n",
    "ans4 = pd.read_csv('ans/sub_5225.csv')"
   ]
  },
  {
   "cell_type": "markdown",
   "id": "12c029e5",
   "metadata": {},
   "source": [
    "# 将结果整理到一起进行计算"
   ]
  },
  {
   "cell_type": "code",
   "execution_count": 4,
   "id": "76fc3cd8",
   "metadata": {
    "ExecuteTime": {
     "end_time": "2022-11-04T12:25:34.688285Z",
     "start_time": "2022-11-04T12:25:34.674282Z"
    }
   },
   "outputs": [],
   "source": [
    "ans = pd.DataFrame()\n",
    "ans['A_0.5285'] = ans1['ret'].rank()\n",
    "ans['A_0.5272'] = ans2['ret'].rank()\n",
    "ans['A_0.5265'] = ans3['ret'].rank()\n",
    "ans['A_0.5224'] = ans4['ret'].rank()"
   ]
  },
  {
   "cell_type": "markdown",
   "id": "38fc6299",
   "metadata": {},
   "source": [
    "# 查看四个模型的相关性"
   ]
  },
  {
   "cell_type": "code",
   "execution_count": 5,
   "id": "45efefa1",
   "metadata": {
    "ExecuteTime": {
     "end_time": "2022-11-04T12:25:34.877887Z",
     "start_time": "2022-11-04T12:25:34.690286Z"
    }
   },
   "outputs": [
    {
     "data": {
      "image/png": "[encoded data removed]",
      "text/plain": [
       "<Figure size 640x480 with 2 Axes>"
      ]
     },
     "metadata": {},
     "output_type": "display_data"
    },
    {
     "data": {
      "text/html": [
       "<div>\n",
       "<style scoped>\n",
       "    .dataframe tbody tr th:only-of-type {\n",
       "        vertical-align: middle;\n",
       "    }\n",
       "\n",
       "    .dataframe tbody tr th {\n",
       "        vertical-align: top;\n",
       "    }\n",
       "\n",
       "    .dataframe thead th {\n",
       "        text-align: right;\n",
       "    }\n",
       "</style>\n",
       "<table border=\"1\" class=\"dataframe\">\n",
       "  <thead>\n",
       "    <tr style=\"text-align: right;\">\n",
       "      <th></th>\n",
       "      <th>A_0.5285</th>\n",
       "      <th>A_0.5272</th>\n",
       "      <th>A_0.5265</th>\n",
       "      <th>A_0.5224</th>\n",
       "    </tr>\n",
       "  </thead>\n",
       "  <tbody>\n",
       "    <tr>\n",
       "      <th>A_0.5285</th>\n",
       "      <td>1.000000</td>\n",
       "      <td>0.883189</td>\n",
       "      <td>0.392396</td>\n",
       "      <td>0.397576</td>\n",
       "    </tr>\n",
       "    <tr>\n",
       "      <th>A_0.5272</th>\n",
       "      <td>0.883189</td>\n",
       "      <td>1.000000</td>\n",
       "      <td>0.447750</td>\n",
       "      <td>0.386621</td>\n",
       "    </tr>\n",
       "    <tr>\n",
       "      <th>A_0.5265</th>\n",
       "      <td>0.392396</td>\n",
       "      <td>0.447750</td>\n",
       "      <td>1.000000</td>\n",
       "      <td>0.414520</td>\n",
       "    </tr>\n",
       "    <tr>\n",
       "      <th>A_0.5224</th>\n",
       "      <td>0.397576</td>\n",
       "      <td>0.386621</td>\n",
       "      <td>0.414520</td>\n",
       "      <td>1.000000</td>\n",
       "    </tr>\n",
       "  </tbody>\n",
       "</table>\n",
       "</div>"
      ],
      "text/plain": [
       "          A_0.5285  A_0.5272  A_0.5265  A_0.5224\n",
       "A_0.5285  1.000000  0.883189  0.392396  0.397576\n",
       "A_0.5272  0.883189  1.000000  0.447750  0.386621\n",
       "A_0.5265  0.392396  0.447750  1.000000  0.414520\n",
       "A_0.5224  0.397576  0.386621  0.414520  1.000000"
      ]
     },
     "execution_count": 5,
     "metadata": {},
     "output_type": "execute_result"
    }
   ],
   "source": [
    "heatmap(ans.corr())\n",
    "show()\n",
    "ans.corr()"
   ]
  },
  {
   "cell_type": "markdown",
   "id": "d78ad768",
   "metadata": {},
   "source": [
    "# 根据模型的相关性利用排序平均法与权重进行模型融合"
   ]
  },
  {
   "cell_type": "code",
   "execution_count": 6,
   "id": "a17cf924",
   "metadata": {
    "ExecuteTime": {
     "end_time": "2022-11-04T12:25:34.893890Z",
     "start_time": "2022-11-04T12:25:34.879888Z"
    }
   },
   "outputs": [],
   "source": [
    "ans = ans1.copy()\n",
    "\n",
    "# 根据模型与模型之间的相关性设定融合权重（相关性越小融合结果越好，因此所占权重也应更大）\n",
    "ans['ret'] = ans1['ret'].rank() * 0.3 + ans2['ret'].rank() * 0.3 + ans4['ret'].rank() * 0.3 + ans3[\n",
    "    'ret'].rank() * 0.4\n",
    "ans['ret'] = (ans['ret'] - ans['ret'].min()) / (ans['ret'].max() - ans['ret'].min())"
   ]
  },
  {
   "cell_type": "markdown",
   "id": "e4937a98",
   "metadata": {},
   "source": [
    "#  保存融合结果"
   ]
  },
  {
   "cell_type": "code",
   "execution_count": 7,
   "id": "5b04af78",
   "metadata": {
    "ExecuteTime": {
     "end_time": "2022-11-04T12:26:38.916102Z",
     "start_time": "2022-11-04T12:26:38.879086Z"
    }
   },
   "outputs": [],
   "source": [
    "ans[['id', 'ret']].to_csv('ans/ans.csv', index=False)"
   ]
  }
 ],
 "metadata": {
  "kernelspec": {
   "display_name": "Python 3 (ipykernel)",
   "language": "python",
   "name": "python3"
  },
  "language_info": {
   "codemirror_mode": {
    "name": "ipython",
    "version": 3
   },
   "file_extension": ".py",
   "mimetype": "text/x-python",
   "name": "python",
   "nbconvert_exporter": "python",
   "pygments_lexer": "ipython3",
   "version": "3.10.3"
  },
  "toc": {
   "base_numbering": 1,
   "nav_menu": {},
   "number_sections": true,
   "sideBar": true,
   "skip_h1_title": false,
   "title_cell": "Table of Contents",
   "title_sidebar": "Contents",
   "toc_cell": false,
   "toc_position": {
    "height": "calc(100% - 180px)",
    "left": "10px",
    "top": "150px",
    "width": "460.8px"
   },
   "toc_section_display": true,
   "toc_window_display": true
  },
  "varInspector": {
   "cols": {
    "lenName": 16,
    "lenType": 16,
    "lenVar": 40
   },
   "kernels_config": {
    "python": {
     "delete_cmd_postfix": "",
     "delete_cmd_prefix": "del ",
     "library": "var_list.py",
     "varRefreshCmd": "print(var_dic_list())"
    },
    "r": {
     "delete_cmd_postfix": ") ",
     "delete_cmd_prefix": "rm(",
     "library": "var_list.r",
     "varRefreshCmd": "cat(var_dic_list()) "
    }
   },
   "types_to_exclude": [
    "module",
    "function",
    "builtin_function_or_method",
    "instance",
    "_Feature"
   ],
   "window_display": false
  }
 },
 "nbformat": 4,
 "nbformat_minor": 5
}
