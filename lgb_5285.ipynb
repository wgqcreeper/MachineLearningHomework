{
 "cells": [
  {
   "cell_type": "code",
   "execution_count": 3,
   "id": "ea4cc3d2",
   "metadata": {
    "ExecuteTime": {
     "end_time": "2022-11-04T11:57:51.625280Z",
     "start_time": "2022-11-04T11:57:48.877912Z"
    }
   },
   "outputs": [],
   "source": [
    "import pandas as pd\n",
    "import numpy as np\n",
    "import lightgbm as lgb\n",
    "from sklearn.model_selection import StratifiedKFold\n",
    "from sklearn.preprocessing import LabelEncoder\n",
    "from matplotlib.pyplot import plot, show\n",
    "from sklearn.metrics import roc_auc_score\n",
    "import json\n",
    "from gensim.models.word2vec import Word2Vec"
   ]
  },
  {
   "cell_type": "markdown",
   "id": "9593e83c",
   "metadata": {},
   "source": [
    "# 1.导入数据"
   ]
  },
  {
   "cell_type": "code",
   "execution_count": 4,
   "id": "32e8dbc6",
   "metadata": {
    "ExecuteTime": {
     "end_time": "2022-11-04T11:57:51.816883Z",
     "start_time": "2022-11-04T11:57:51.627281Z"
    }
   },
   "outputs": [],
   "source": [
    "df_train = pd.read_csv('data/train_dataset.csv', sep='\\t')\n",
    "df_test = pd.read_csv('data/test_dataset.csv', sep='\\t')\n",
    "sub = pd.read_csv('data/submit_example.csv')\n",
    "df_test['id'] = sub['id']\n",
    "df = pd.concat([df_train, df_test])"
   ]
  },
  {
   "cell_type": "markdown",
   "id": "a0fc3cce",
   "metadata": {},
   "source": [
    "# 2.细化特征"
   ]
  },
  {
   "cell_type": "code",
   "execution_count": 5,
   "id": "c82c6450",
   "metadata": {
    "ExecuteTime": {
     "end_time": "2022-11-04T11:57:52.040953Z",
     "start_time": "2022-11-04T11:57:51.818884Z"
    }
   },
   "outputs": [],
   "source": [
    "df['location_first_lvl'] = df['location'].astype(str).apply(lambda x: json.loads(x)['first_lvl'])\n",
    "df['location_sec_lvl'] = df['location'].astype(str).apply(lambda x: json.loads(x)['sec_lvl'])\n",
    "df['location_third_lvl'] = df['location'].astype(str).apply(lambda x: json.loads(x)['third_lvl'])\n",
    "\n",
    "# 构建训练特征\n",
    "feats = ['user_name', 'action', 'auth_type', 'ip_location_type_keyword', 'ip_risk_level', 'ip', 'location',\n",
    "         'device_model', 'os_type', 'os_version', 'browser_type', 'browser_version', 'bus_system_code', 'op_target',\n",
    "         'location_first_lvl', 'location_sec_lvl', 'location_third_lvl',\n",
    "         ]\n",
    "\n",
    "cat = []\n",
    "\n",
    "LABEL = 'risk_label'\n",
    "\n",
    "# 细分时间特征\n",
    "df['sec'] = df['session_id'].apply(lambda x: int(x[-7:-5]))\n",
    "df['sec_sin'] = np.sin(df['sec'] / 60 * 2 * np.pi)\n",
    "df['sec_cos'] = np.cos(df['sec'] / 60 * 2 * np.pi)\n",
    "df['op_date'] = pd.to_datetime(df['op_date'])\n",
    "df['hour'] = df['op_date'].dt.hour\n",
    "df['weekday'] = df['op_date'].dt.weekday\n",
    "df['year'] = df['op_date'].dt.year\n",
    "df['month'] = df['op_date'].dt.month\n",
    "df['day'] = df['op_date'].dt.day\n",
    "df['op_ts'] = df[\"op_date\"].values.astype(np.int64) // 10 ** 9\n",
    "df = df.sort_values(by=['user_name', 'op_ts']).reset_index(drop=True)\n",
    "df['last_ts'] = df.groupby(['user_name'])['op_ts'].shift(1)\n",
    "df['last_ts2'] = df.groupby(['user_name'])['op_ts'].shift(2)\n",
    "df['ts_diff'] = df['op_ts'] - df['last_ts']\n",
    "df['ts_diff2'] = df['op_ts'] - df['last_ts2']\n",
    "feats += ['sec',\n",
    "          'sec_sin', 'sec_cos',\n",
    "          'op_ts', 'last_ts', 'ts_diff',\n",
    "          # 'last_ts2',\n",
    "          'ts_diff2',\n",
    "          ]"
   ]
  },
  {
   "cell_type": "markdown",
   "id": "f1d2ce0f",
   "metadata": {},
   "source": [
    "# 3.词嵌入特征"
   ]
  },
  {
   "cell_type": "code",
   "execution_count": 6,
   "id": "169dd337",
   "metadata": {
    "ExecuteTime": {
     "end_time": "2022-11-04T11:57:52.215036Z",
     "start_time": "2022-11-04T11:57:52.043954Z"
    }
   },
   "outputs": [
    {
     "name": "stdout",
     "output_type": "stream",
     "text": [
      "nan [-0.13903026  0.03005757  0.25148448  0.9644866  -0.28805935 -0.67375904]\n",
      "pwd [ 0.03973053  0.1891723   0.13216272  1.0011268  -0.16735148 -0.7792582 ]\n",
      "sms [-0.12732314  0.05897151  0.15256187  1.0156738  -0.19783318 -0.69883054]\n",
      "qr [-0.15083304 -0.18690944  0.32928893  1.0530428  -0.14471556 -0.6634975 ]\n",
      "otp [ 0.10661024 -0.01189896  0.15297233  0.95404774 -0.40966824 -0.6917451 ]\n"
     ]
    }
   ],
   "source": [
    "# 词嵌入特征\n",
    "for name in ['auth_type']:\n",
    "    df[name + '_fillna'] = df[name].astype('str')\n",
    "    sent = df.groupby(['user_name', 'year', 'month', 'day'])[name + '_fillna'].agg(list).values\n",
    "\n",
    "    vec_size = 6\n",
    "    w2v_model = Word2Vec(sentences=sent, vector_size=vec_size, window=12, min_count=1, workers=1)\n",
    "    tmp = df[name + '_fillna'].map(lambda x: w2v_model.wv[x])\n",
    "    tmp = pd.DataFrame(list(tmp))\n",
    "    tmp.columns = ['_'.join([name, 'emb', str(i)]) for i in range(vec_size)]\n",
    "    df = pd.concat([df, tmp], axis=1)\n",
    "    feats += list(tmp.columns)\n",
    "\n",
    "# for name in df['auth_type']:\n",
    "for w in w2v_model.wv.key_to_index:\n",
    "    print(w, w2v_model.wv[w])\n",
    "\n",
    "# 特征构造\n",
    "for name in ['mean', 'std', 'max', 'min', 'median', 'skew']:\n",
    "    for name1 in ['user_name', 'bus_system_code', 'auth_type', 'action',\n",
    "                  ]:  # 'op_target'\n",
    "\n",
    "        df[name1 + '_ts_diff_' + name] = df.groupby([name1])['ts_diff'].transform(name)\n",
    "        feats.append(name1 + '_ts_diff_' + name)\n",
    "\n",
    "df['if_out'] = (df['location'] == '{\"first_lvl\":\"成都分公司\",\"sec_lvl\":\"9楼\",\"third_lvl\":\"销售部\"}')\n",
    "feats.append('if_out')"
   ]
  },
  {
   "cell_type": "markdown",
   "id": "d9939c14",
   "metadata": {},
   "source": [
    "# 4.标签编码"
   ]
  },
  {
   "cell_type": "code",
   "execution_count": 7,
   "id": "2ed2fcc8",
   "metadata": {
    "ExecuteTime": {
     "end_time": "2022-11-04T11:57:52.294910Z",
     "start_time": "2022-11-04T11:57:52.216036Z"
    }
   },
   "outputs": [],
   "source": [
    "# 标签编码\n",
    "for name in ['user_name', 'action', 'auth_type', 'ip', 'ip_location_type_keyword', 'ip_risk_level', 'location',\n",
    "             'device_model', 'os_type', 'os_version', 'browser_type', 'browser_version', 'bus_system_code',\n",
    "             'op_target',\n",
    "             'location_first_lvl', 'location_sec_lvl', 'location_third_lvl',\n",
    "             ] + cat:\n",
    "    le = LabelEncoder()\n",
    "    df[name] = le.fit_transform(df[name])"
   ]
  },
  {
   "cell_type": "markdown",
   "id": "cb438637",
   "metadata": {},
   "source": [
    "# 5.分离训练集和测试集"
   ]
  },
  {
   "cell_type": "code",
   "execution_count": 8,
   "id": "8b34621a",
   "metadata": {
    "ExecuteTime": {
     "end_time": "2022-11-04T11:57:52.326925Z",
     "start_time": "2022-11-04T11:57:52.296911Z"
    }
   },
   "outputs": [],
   "source": [
    "df_train = df[~df[LABEL].isna()].reset_index(drop=True)\n",
    "df_test = df[df[LABEL].isna()].reset_index(drop=True)"
   ]
  },
  {
   "cell_type": "markdown",
   "id": "eb3fe386",
   "metadata": {},
   "source": [
    "# 6.确定模型参数"
   ]
  },
  {
   "cell_type": "code",
   "execution_count": 9,
   "id": "72aa22aa",
   "metadata": {
    "ExecuteTime": {
     "end_time": "2022-11-04T11:57:52.342981Z",
     "start_time": "2022-11-04T11:57:52.327925Z"
    }
   },
   "outputs": [
    {
     "data": {
      "text/plain": [
       "['user_name',\n",
       " 'action',\n",
       " 'auth_type',\n",
       " 'ip_location_type_keyword',\n",
       " 'ip_risk_level',\n",
       " 'ip',\n",
       " 'location',\n",
       " 'device_model',\n",
       " 'os_type',\n",
       " 'os_version',\n",
       " 'browser_type',\n",
       " 'browser_version',\n",
       " 'bus_system_code',\n",
       " 'op_target',\n",
       " 'location_first_lvl',\n",
       " 'location_sec_lvl',\n",
       " 'location_third_lvl',\n",
       " 'sec',\n",
       " 'sec_sin',\n",
       " 'sec_cos',\n",
       " 'op_ts',\n",
       " 'last_ts',\n",
       " 'ts_diff',\n",
       " 'ts_diff2',\n",
       " 'auth_type_emb_0',\n",
       " 'auth_type_emb_1',\n",
       " 'auth_type_emb_2',\n",
       " 'auth_type_emb_3',\n",
       " 'auth_type_emb_4',\n",
       " 'auth_type_emb_5',\n",
       " 'user_name_ts_diff_mean',\n",
       " 'bus_system_code_ts_diff_mean',\n",
       " 'auth_type_ts_diff_mean',\n",
       " 'action_ts_diff_mean',\n",
       " 'user_name_ts_diff_std',\n",
       " 'bus_system_code_ts_diff_std',\n",
       " 'auth_type_ts_diff_std',\n",
       " 'action_ts_diff_std',\n",
       " 'user_name_ts_diff_max',\n",
       " 'bus_system_code_ts_diff_max',\n",
       " 'auth_type_ts_diff_max',\n",
       " 'action_ts_diff_max',\n",
       " 'user_name_ts_diff_min',\n",
       " 'bus_system_code_ts_diff_min',\n",
       " 'auth_type_ts_diff_min',\n",
       " 'action_ts_diff_min',\n",
       " 'user_name_ts_diff_median',\n",
       " 'bus_system_code_ts_diff_median',\n",
       " 'auth_type_ts_diff_median',\n",
       " 'action_ts_diff_median',\n",
       " 'user_name_ts_diff_skew',\n",
       " 'bus_system_code_ts_diff_skew',\n",
       " 'auth_type_ts_diff_skew',\n",
       " 'action_ts_diff_skew',\n",
       " 'if_out']"
      ]
     },
     "execution_count": 9,
     "metadata": {},
     "output_type": "execute_result"
    }
   ],
   "source": [
    "params = {\n",
    "    'learning_rate': 0.08,\n",
    "    'boosting_type': 'gbdt',\n",
    "    'objective': 'binary',\n",
    "    'metric': 'auc',\n",
    "    'verbose': -1,\n",
    "    'seed': 2222,\n",
    "    'n_jobs': -1,\n",
    "}\n",
    "feats"
   ]
  },
  {
   "cell_type": "markdown",
   "id": "c26abce5",
   "metadata": {},
   "source": [
    "# 7.使用n折交叉验证划分数据集（此处n取10）训练模型并进行预测"
   ]
  },
  {
   "cell_type": "code",
   "execution_count": 10,
   "id": "2b993367",
   "metadata": {
    "ExecuteTime": {
     "end_time": "2022-11-04T11:57:55.177593Z",
     "start_time": "2022-11-04T11:57:52.345097Z"
    }
   },
   "outputs": [
    {
     "name": "stdout",
     "output_type": "stream",
     "text": [
      "############################ 2022\n",
      "----------- 0\n",
      "Training until validation scores don't improve for 100 rounds\n",
      "[100]\tvalid_0's auc: 0.53474\n",
      "Early stopping, best iteration is:\n",
      "[39]\tvalid_0's auc: 0.54762\n"
     ]
    },
    {
     "name": "stderr",
     "output_type": "stream",
     "text": [
      "C:\\Users\\wgq\\AppData\\Local\\Programs\\Python\\Python310\\lib\\site-packages\\lightgbm\\engine.py:181: UserWarning: 'early_stopping_rounds' argument is deprecated and will be removed in a future release of LightGBM. Pass 'early_stopping()' callback via 'callbacks' argument instead.\n",
      "  _log_warning(\"'early_stopping_rounds' argument is deprecated and will be removed in a future release of LightGBM. \"\n",
      "C:\\Users\\wgq\\AppData\\Local\\Programs\\Python\\Python310\\lib\\site-packages\\lightgbm\\engine.py:239: UserWarning: 'verbose_eval' argument is deprecated and will be removed in a future release of LightGBM. Pass 'log_evaluation()' callback via 'callbacks' argument instead.\n",
      "  _log_warning(\"'verbose_eval' argument is deprecated and will be removed in a future release of LightGBM. \"\n"
     ]
    },
    {
     "name": "stdout",
     "output_type": "stream",
     "text": [
      "----------- 1\n",
      "Training until validation scores don't improve for 100 rounds\n"
     ]
    },
    {
     "name": "stderr",
     "output_type": "stream",
     "text": [
      "C:\\Users\\wgq\\AppData\\Local\\Programs\\Python\\Python310\\lib\\site-packages\\lightgbm\\engine.py:181: UserWarning: 'early_stopping_rounds' argument is deprecated and will be removed in a future release of LightGBM. Pass 'early_stopping()' callback via 'callbacks' argument instead.\n",
      "  _log_warning(\"'early_stopping_rounds' argument is deprecated and will be removed in a future release of LightGBM. \"\n",
      "C:\\Users\\wgq\\AppData\\Local\\Programs\\Python\\Python310\\lib\\site-packages\\lightgbm\\engine.py:239: UserWarning: 'verbose_eval' argument is deprecated and will be removed in a future release of LightGBM. Pass 'log_evaluation()' callback via 'callbacks' argument instead.\n",
      "  _log_warning(\"'verbose_eval' argument is deprecated and will be removed in a future release of LightGBM. \"\n"
     ]
    },
    {
     "name": "stdout",
     "output_type": "stream",
     "text": [
      "[100]\tvalid_0's auc: 0.493507\n",
      "Early stopping, best iteration is:\n",
      "[1]\tvalid_0's auc: 0.511404\n",
      "----------- 2\n",
      "Training until validation scores don't improve for 100 rounds\n"
     ]
    },
    {
     "name": "stderr",
     "output_type": "stream",
     "text": [
      "C:\\Users\\wgq\\AppData\\Local\\Programs\\Python\\Python310\\lib\\site-packages\\lightgbm\\engine.py:181: UserWarning: 'early_stopping_rounds' argument is deprecated and will be removed in a future release of LightGBM. Pass 'early_stopping()' callback via 'callbacks' argument instead.\n",
      "  _log_warning(\"'early_stopping_rounds' argument is deprecated and will be removed in a future release of LightGBM. \"\n",
      "C:\\Users\\wgq\\AppData\\Local\\Programs\\Python\\Python310\\lib\\site-packages\\lightgbm\\engine.py:239: UserWarning: 'verbose_eval' argument is deprecated and will be removed in a future release of LightGBM. Pass 'log_evaluation()' callback via 'callbacks' argument instead.\n",
      "  _log_warning(\"'verbose_eval' argument is deprecated and will be removed in a future release of LightGBM. \"\n"
     ]
    },
    {
     "name": "stdout",
     "output_type": "stream",
     "text": [
      "[100]\tvalid_0's auc: 0.539473\n",
      "Early stopping, best iteration is:\n",
      "[17]\tvalid_0's auc: 0.564192\n",
      "----------- 3\n",
      "Training until validation scores don't improve for 100 rounds\n"
     ]
    },
    {
     "name": "stderr",
     "output_type": "stream",
     "text": [
      "C:\\Users\\wgq\\AppData\\Local\\Programs\\Python\\Python310\\lib\\site-packages\\lightgbm\\engine.py:181: UserWarning: 'early_stopping_rounds' argument is deprecated and will be removed in a future release of LightGBM. Pass 'early_stopping()' callback via 'callbacks' argument instead.\n",
      "  _log_warning(\"'early_stopping_rounds' argument is deprecated and will be removed in a future release of LightGBM. \"\n",
      "C:\\Users\\wgq\\AppData\\Local\\Programs\\Python\\Python310\\lib\\site-packages\\lightgbm\\engine.py:239: UserWarning: 'verbose_eval' argument is deprecated and will be removed in a future release of LightGBM. Pass 'log_evaluation()' callback via 'callbacks' argument instead.\n",
      "  _log_warning(\"'verbose_eval' argument is deprecated and will be removed in a future release of LightGBM. \"\n"
     ]
    },
    {
     "name": "stdout",
     "output_type": "stream",
     "text": [
      "[100]\tvalid_0's auc: 0.505886\n",
      "Early stopping, best iteration is:\n",
      "[18]\tvalid_0's auc: 0.520764\n",
      "----------- 4\n",
      "Training until validation scores don't improve for 100 rounds\n"
     ]
    },
    {
     "name": "stderr",
     "output_type": "stream",
     "text": [
      "C:\\Users\\wgq\\AppData\\Local\\Programs\\Python\\Python310\\lib\\site-packages\\lightgbm\\engine.py:181: UserWarning: 'early_stopping_rounds' argument is deprecated and will be removed in a future release of LightGBM. Pass 'early_stopping()' callback via 'callbacks' argument instead.\n",
      "  _log_warning(\"'early_stopping_rounds' argument is deprecated and will be removed in a future release of LightGBM. \"\n",
      "C:\\Users\\wgq\\AppData\\Local\\Programs\\Python\\Python310\\lib\\site-packages\\lightgbm\\engine.py:239: UserWarning: 'verbose_eval' argument is deprecated and will be removed in a future release of LightGBM. Pass 'log_evaluation()' callback via 'callbacks' argument instead.\n",
      "  _log_warning(\"'verbose_eval' argument is deprecated and will be removed in a future release of LightGBM. \"\n"
     ]
    },
    {
     "name": "stdout",
     "output_type": "stream",
     "text": [
      "[100]\tvalid_0's auc: 0.542621\n",
      "Early stopping, best iteration is:\n",
      "[75]\tvalid_0's auc: 0.55096\n",
      "----------- 5\n"
     ]
    },
    {
     "name": "stderr",
     "output_type": "stream",
     "text": [
      "C:\\Users\\wgq\\AppData\\Local\\Programs\\Python\\Python310\\lib\\site-packages\\lightgbm\\engine.py:181: UserWarning: 'early_stopping_rounds' argument is deprecated and will be removed in a future release of LightGBM. Pass 'early_stopping()' callback via 'callbacks' argument instead.\n",
      "  _log_warning(\"'early_stopping_rounds' argument is deprecated and will be removed in a future release of LightGBM. \"\n",
      "C:\\Users\\wgq\\AppData\\Local\\Programs\\Python\\Python310\\lib\\site-packages\\lightgbm\\engine.py:239: UserWarning: 'verbose_eval' argument is deprecated and will be removed in a future release of LightGBM. Pass 'log_evaluation()' callback via 'callbacks' argument instead.\n",
      "  _log_warning(\"'verbose_eval' argument is deprecated and will be removed in a future release of LightGBM. \"\n"
     ]
    },
    {
     "name": "stdout",
     "output_type": "stream",
     "text": [
      "Training until validation scores don't improve for 100 rounds\n",
      "[100]\tvalid_0's auc: 0.498477\n",
      "Early stopping, best iteration is:\n",
      "[6]\tvalid_0's auc: 0.520646\n",
      "----------- 6\n"
     ]
    },
    {
     "name": "stderr",
     "output_type": "stream",
     "text": [
      "C:\\Users\\wgq\\AppData\\Local\\Programs\\Python\\Python310\\lib\\site-packages\\lightgbm\\engine.py:181: UserWarning: 'early_stopping_rounds' argument is deprecated and will be removed in a future release of LightGBM. Pass 'early_stopping()' callback via 'callbacks' argument instead.\n",
      "  _log_warning(\"'early_stopping_rounds' argument is deprecated and will be removed in a future release of LightGBM. \"\n",
      "C:\\Users\\wgq\\AppData\\Local\\Programs\\Python\\Python310\\lib\\site-packages\\lightgbm\\engine.py:239: UserWarning: 'verbose_eval' argument is deprecated and will be removed in a future release of LightGBM. Pass 'log_evaluation()' callback via 'callbacks' argument instead.\n",
      "  _log_warning(\"'verbose_eval' argument is deprecated and will be removed in a future release of LightGBM. \"\n"
     ]
    },
    {
     "name": "stdout",
     "output_type": "stream",
     "text": [
      "Training until validation scores don't improve for 100 rounds\n",
      "[100]\tvalid_0's auc: 0.487336\n",
      "Early stopping, best iteration is:\n",
      "[5]\tvalid_0's auc: 0.503245\n",
      "----------- 7\n"
     ]
    },
    {
     "name": "stderr",
     "output_type": "stream",
     "text": [
      "C:\\Users\\wgq\\AppData\\Local\\Programs\\Python\\Python310\\lib\\site-packages\\lightgbm\\engine.py:181: UserWarning: 'early_stopping_rounds' argument is deprecated and will be removed in a future release of LightGBM. Pass 'early_stopping()' callback via 'callbacks' argument instead.\n",
      "  _log_warning(\"'early_stopping_rounds' argument is deprecated and will be removed in a future release of LightGBM. \"\n",
      "C:\\Users\\wgq\\AppData\\Local\\Programs\\Python\\Python310\\lib\\site-packages\\lightgbm\\engine.py:239: UserWarning: 'verbose_eval' argument is deprecated and will be removed in a future release of LightGBM. Pass 'log_evaluation()' callback via 'callbacks' argument instead.\n",
      "  _log_warning(\"'verbose_eval' argument is deprecated and will be removed in a future release of LightGBM. \"\n"
     ]
    },
    {
     "name": "stdout",
     "output_type": "stream",
     "text": [
      "Training until validation scores don't improve for 100 rounds\n",
      "[100]\tvalid_0's auc: 0.532717\n",
      "Early stopping, best iteration is:\n",
      "[96]\tvalid_0's auc: 0.534138\n",
      "----------- 8\n"
     ]
    },
    {
     "name": "stderr",
     "output_type": "stream",
     "text": [
      "C:\\Users\\wgq\\AppData\\Local\\Programs\\Python\\Python310\\lib\\site-packages\\lightgbm\\engine.py:181: UserWarning: 'early_stopping_rounds' argument is deprecated and will be removed in a future release of LightGBM. Pass 'early_stopping()' callback via 'callbacks' argument instead.\n",
      "  _log_warning(\"'early_stopping_rounds' argument is deprecated and will be removed in a future release of LightGBM. \"\n",
      "C:\\Users\\wgq\\AppData\\Local\\Programs\\Python\\Python310\\lib\\site-packages\\lightgbm\\engine.py:239: UserWarning: 'verbose_eval' argument is deprecated and will be removed in a future release of LightGBM. Pass 'log_evaluation()' callback via 'callbacks' argument instead.\n",
      "  _log_warning(\"'verbose_eval' argument is deprecated and will be removed in a future release of LightGBM. \"\n"
     ]
    },
    {
     "name": "stdout",
     "output_type": "stream",
     "text": [
      "Training until validation scores don't improve for 100 rounds\n",
      "[100]\tvalid_0's auc: 0.502106\n",
      "Early stopping, best iteration is:\n",
      "[13]\tvalid_0's auc: 0.522478\n",
      "----------- 9\n"
     ]
    },
    {
     "name": "stderr",
     "output_type": "stream",
     "text": [
      "C:\\Users\\wgq\\AppData\\Local\\Programs\\Python\\Python310\\lib\\site-packages\\lightgbm\\engine.py:181: UserWarning: 'early_stopping_rounds' argument is deprecated and will be removed in a future release of LightGBM. Pass 'early_stopping()' callback via 'callbacks' argument instead.\n",
      "  _log_warning(\"'early_stopping_rounds' argument is deprecated and will be removed in a future release of LightGBM. \"\n",
      "C:\\Users\\wgq\\AppData\\Local\\Programs\\Python\\Python310\\lib\\site-packages\\lightgbm\\engine.py:239: UserWarning: 'verbose_eval' argument is deprecated and will be removed in a future release of LightGBM. Pass 'log_evaluation()' callback via 'callbacks' argument instead.\n",
      "  _log_warning(\"'verbose_eval' argument is deprecated and will be removed in a future release of LightGBM. \"\n"
     ]
    },
    {
     "name": "stdout",
     "output_type": "stream",
     "text": [
      "Training until validation scores don't improve for 100 rounds\n",
      "[100]\tvalid_0's auc: 0.509078\n",
      "Early stopping, best iteration is:\n",
      "[6]\tvalid_0's auc: 0.5348\n"
     ]
    },
    {
     "data": {
      "text/plain": [
       "0.5325646050072894"
      ]
     },
     "execution_count": 10,
     "metadata": {},
     "output_type": "execute_result"
    }
   ],
   "source": [
    "seeds = [2022]\n",
    "# 初始化oof数组\n",
    "oof = np.zeros(len(df_train))\n",
    "importance = 0\n",
    "fold_num = 10\n",
    "pred_y = pd.DataFrame()\n",
    "for seed in seeds:\n",
    "    print('############################', seed)\n",
    "\n",
    "    # 10折交叉验证划分数据\n",
    "    kf = StratifiedKFold(n_splits=fold_num, shuffle=True, random_state=seed)\n",
    "    for fold, (train_idx, val_idx) in enumerate(kf.split(df_train[feats], df_train[LABEL])):\n",
    "        print('-----------', fold)\n",
    "        train = lgb.Dataset(df_train.loc[train_idx, feats],\n",
    "                            df_train.loc[train_idx, LABEL])\n",
    "        val = lgb.Dataset(df_train.loc[val_idx, feats],\n",
    "                          df_train.loc[val_idx, LABEL])\n",
    "        model = lgb.train(params, train, valid_sets=val, num_boost_round=10000,\n",
    "                          early_stopping_rounds=100, verbose_eval=100)\n",
    "\n",
    "        oof[val_idx] += model.predict(df_train.loc[val_idx, feats]) / len(seeds)\n",
    "        pred_y['fold_%d_seed_%d' % (fold, seed)] = model.predict(df_test[feats])\n",
    "        importance += model.feature_importance(importance_type='gain') / fold_num\n",
    "\n",
    "df_train['oof'] = oof\n",
    "score = roc_auc_score(df_train[LABEL], df_train['oof'])\n",
    "score"
   ]
  },
  {
   "cell_type": "markdown",
   "id": "459c499c",
   "metadata": {},
   "source": [
    "# **8.获取特征重要性**"
   ]
  },
  {
   "cell_type": "code",
   "execution_count": 11,
   "id": "fac925f7",
   "metadata": {
    "ExecuteTime": {
     "end_time": "2022-11-04T11:57:55.208600Z",
     "start_time": "2022-11-04T11:57:55.180594Z"
    }
   },
   "outputs": [
    {
     "data": {
      "text/html": [
       "<div>\n",
       "<style scoped>\n",
       "    .dataframe tbody tr th:only-of-type {\n",
       "        vertical-align: middle;\n",
       "    }\n",
       "\n",
       "    .dataframe tbody tr th {\n",
       "        vertical-align: top;\n",
       "    }\n",
       "\n",
       "    .dataframe thead th {\n",
       "        text-align: right;\n",
       "    }\n",
       "</style>\n",
       "<table border=\"1\" class=\"dataframe\">\n",
       "  <thead>\n",
       "    <tr style=\"text-align: right;\">\n",
       "      <th></th>\n",
       "      <th>name</th>\n",
       "      <th>importance</th>\n",
       "    </tr>\n",
       "  </thead>\n",
       "  <tbody>\n",
       "    <tr>\n",
       "      <th>23</th>\n",
       "      <td>ts_diff2</td>\n",
       "      <td>571.175817</td>\n",
       "    </tr>\n",
       "    <tr>\n",
       "      <th>20</th>\n",
       "      <td>op_ts</td>\n",
       "      <td>546.814387</td>\n",
       "    </tr>\n",
       "    <tr>\n",
       "      <th>22</th>\n",
       "      <td>ts_diff</td>\n",
       "      <td>510.694570</td>\n",
       "    </tr>\n",
       "    <tr>\n",
       "      <th>19</th>\n",
       "      <td>sec_cos</td>\n",
       "      <td>307.498871</td>\n",
       "    </tr>\n",
       "    <tr>\n",
       "      <th>18</th>\n",
       "      <td>sec_sin</td>\n",
       "      <td>304.902033</td>\n",
       "    </tr>\n",
       "    <tr>\n",
       "      <th>21</th>\n",
       "      <td>last_ts</td>\n",
       "      <td>301.187301</td>\n",
       "    </tr>\n",
       "    <tr>\n",
       "      <th>17</th>\n",
       "      <td>sec</td>\n",
       "      <td>280.897311</td>\n",
       "    </tr>\n",
       "    <tr>\n",
       "      <th>50</th>\n",
       "      <td>user_name_ts_diff_skew</td>\n",
       "      <td>134.404960</td>\n",
       "    </tr>\n",
       "    <tr>\n",
       "      <th>12</th>\n",
       "      <td>bus_system_code</td>\n",
       "      <td>104.902371</td>\n",
       "    </tr>\n",
       "    <tr>\n",
       "      <th>0</th>\n",
       "      <td>user_name</td>\n",
       "      <td>100.380022</td>\n",
       "    </tr>\n",
       "  </tbody>\n",
       "</table>\n",
       "</div>"
      ],
      "text/plain": [
       "                      name  importance\n",
       "23                ts_diff2  571.175817\n",
       "20                   op_ts  546.814387\n",
       "22                 ts_diff  510.694570\n",
       "19                 sec_cos  307.498871\n",
       "18                 sec_sin  304.902033\n",
       "21                 last_ts  301.187301\n",
       "17                     sec  280.897311\n",
       "50  user_name_ts_diff_skew  134.404960\n",
       "12         bus_system_code  104.902371\n",
       "0                user_name  100.380022"
      ]
     },
     "execution_count": 11,
     "metadata": {},
     "output_type": "execute_result"
    }
   ],
   "source": [
    "feats_importance = pd.DataFrame()\n",
    "feats_importance['name'] = feats\n",
    "feats_importance['importance'] = importance\n",
    "feats_importance.sort_values('importance', ascending=False)[:10]"
   ]
  },
  {
   "cell_type": "markdown",
   "id": "fb031d9b",
   "metadata": {},
   "source": [
    "# 9.保存结果"
   ]
  },
  {
   "cell_type": "code",
   "execution_count": 12,
   "id": "29c8a0d0",
   "metadata": {
    "ExecuteTime": {
     "end_time": "2022-11-04T11:57:55.271615Z",
     "start_time": "2022-11-04T11:57:55.213601Z"
    }
   },
   "outputs": [],
   "source": [
    "sub = pd.read_csv('data/submit_example.csv')\n",
    "pred_y = pred_y.mean(axis=1)\n",
    "sub['ret'] = pred_y\n",
    "sub[['id', 'ret']].to_csv('ans/lgb_5285.csv', index=False)"
   ]
  }
 ],
 "metadata": {
  "kernelspec": {
   "display_name": "Python 3 (ipykernel)",
   "language": "python",
   "name": "python3"
  },
  "language_info": {
   "codemirror_mode": {
    "name": "ipython",
    "version": 3
   },
   "file_extension": ".py",
   "mimetype": "text/x-python",
   "name": "python",
   "nbconvert_exporter": "python",
   "pygments_lexer": "ipython3",
   "version": "3.10.3"
  },
  "toc": {
   "base_numbering": 1,
   "nav_menu": {},
   "number_sections": true,
   "sideBar": true,
   "skip_h1_title": false,
   "title_cell": "Table of Contents",
   "title_sidebar": "Contents",
   "toc_cell": false,
   "toc_position": {
    "height": "calc(100% - 180px)",
    "left": "10px",
    "top": "150px",
    "width": "460.8px"
   },
   "toc_section_display": true,
   "toc_window_display": true
  },
  "varInspector": {
   "cols": {
    "lenName": 16,
    "lenType": 16,
    "lenVar": 40
   },
   "kernels_config": {
    "python": {
     "delete_cmd_postfix": "",
     "delete_cmd_prefix": "del ",
     "library": "var_list.py",
     "varRefreshCmd": "print(var_dic_list())"
    },
    "r": {
     "delete_cmd_postfix": ") ",
     "delete_cmd_prefix": "rm(",
     "library": "var_list.r",
     "varRefreshCmd": "cat(var_dic_list()) "
    }
   },
   "types_to_exclude": [
    "module",
    "function",
    "builtin_function_or_method",
    "instance",
    "_Feature"
   ],
   "window_display": false
  }
 },
 "nbformat": 4,
 "nbformat_minor": 5
}
