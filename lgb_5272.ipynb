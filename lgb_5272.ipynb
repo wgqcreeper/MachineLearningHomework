{
 "cells": [
  {
   "cell_type": "code",
   "execution_count": 1,
   "id": "45de07e4",
   "metadata": {
    "ExecuteTime": {
     "end_time": "2022-11-04T11:45:17.724340Z",
     "start_time": "2022-11-04T11:45:14.841895Z"
    }
   },
   "outputs": [],
   "source": [
    "import pandas as pd\n",
    "import numpy as np\n",
    "import lightgbm as lgb\n",
    "from sklearn.model_selection import StratifiedKFold\n",
    "from sklearn.preprocessing import LabelEncoder\n",
    "from matplotlib.pyplot import plot, show\n",
    "from sklearn.metrics import roc_auc_score\n",
    "import json\n",
    "from gensim.models.word2vec import Word2Vec"
   ]
  },
  {
   "cell_type": "code",
   "execution_count": 2,
   "id": "fdb2f6d8",
   "metadata": {
    "ExecuteTime": {
     "end_time": "2022-11-04T11:45:17.804454Z",
     "start_time": "2022-11-04T11:45:17.726341Z"
    }
   },
   "outputs": [],
   "source": [
    "df_train = pd.read_csv('data/train_dataset.csv', sep='\\t')\n",
    "df_test = pd.read_csv('data/test_dataset.csv', sep='\\t')\n",
    "sub = pd.read_csv('data/submit_example.csv')\n",
    "df_test['id'] = sub['id']\n",
    "df = pd.concat([df_train, df_test])"
   ]
  },
  {
   "cell_type": "markdown",
   "id": "26d1c895",
   "metadata": {},
   "source": [
    "# **细化特征**"
   ]
  },
  {
   "cell_type": "code",
   "execution_count": 3,
   "id": "ca6f3dc0",
   "metadata": {
    "ExecuteTime": {
     "end_time": "2022-11-04T11:45:18.028508Z",
     "start_time": "2022-11-04T11:45:17.805454Z"
    },
    "code_folding": [
     4
    ]
   },
   "outputs": [],
   "source": [
    "df['location_first_lvl'] = df['location'].astype(str).apply(lambda x: json.loads(x)['first_lvl'])\n",
    "df['location_sec_lvl'] = df['location'].astype(str).apply(lambda x: json.loads(x)['sec_lvl'])\n",
    "df['location_third_lvl'] = df['location'].astype(str).apply(lambda x: json.loads(x)['third_lvl'])\n",
    "\n",
    "feats = ['user_name', 'action', 'auth_type', 'ip_location_type_keyword', 'ip_risk_level', 'ip', 'location',\n",
    "         'device_model', 'os_type', 'os_version', 'browser_type', 'browser_version', 'bus_system_code', 'op_target',\n",
    "         'location_first_lvl', 'location_sec_lvl', 'location_third_lvl',\n",
    "         ]\n",
    "cat = []\n",
    "\n",
    "\n",
    "LABEL = 'risk_label'\n",
    "\n",
    "df['sec'] = df['session_id'].apply(lambda x: int(x[-7:-5]))\n",
    "df['sec_sin'] = np.sin(df['sec'] / 60 * 2 * np.pi)\n",
    "df['sec_cos'] = np.cos(df['sec'] / 60 * 2 * np.pi)\n",
    "df['op_date'] = pd.to_datetime(df['op_date'])\n",
    "df['hour'] = df['op_date'].dt.hour\n",
    "df['weekday'] = df['op_date'].dt.weekday\n",
    "df['year'] = df['op_date'].dt.year\n",
    "df['month'] = df['op_date'].dt.month\n",
    "df['day'] = df['op_date'].dt.day\n",
    "df['op_ts'] = df[\"op_date\"].values.astype(np.int64) // 10 ** 9\n",
    "df = df.sort_values(by=['user_name', 'op_ts']).reset_index(drop=True)\n",
    "df['last_ts'] = df.groupby(['user_name'])['op_ts'].shift(1)\n",
    "df['last_ts2'] = df.groupby(['user_name'])['op_ts'].shift(2)\n",
    "df['ts_diff'] = df['op_ts'] - df['last_ts']\n",
    "df['ts_diff2'] = df['op_ts'] - df['last_ts2']\n",
    "feats += ['sec',\n",
    "          'sec_sin', 'sec_cos',\n",
    "          'op_ts', 'last_ts', 'ts_diff',\n",
    "          'last_ts2',\n",
    "          'ts_diff2',\n",
    "          ]"
   ]
  },
  {
   "cell_type": "markdown",
   "id": "4edfec0b",
   "metadata": {},
   "source": [
    "# **特征构造（衍生特征）**"
   ]
  },
  {
   "cell_type": "code",
   "execution_count": 4,
   "id": "1e593589",
   "metadata": {
    "ExecuteTime": {
     "end_time": "2022-11-04T11:45:18.316574Z",
     "start_time": "2022-11-04T11:45:18.030510Z"
    }
   },
   "outputs": [],
   "source": [
    "for name in ['auth_type']:\n",
    "    df[name + '_fillna'] = df[name].astype('str')\n",
    "    sent = df.groupby(['user_name', 'year', 'month', 'day'])[name + '_fillna'].agg(list).values\n",
    "\n",
    "    vec_size = 6\n",
    "    w2v_model = Word2Vec(sentences=sent, vector_size=vec_size, window=12, min_count=1, workers=1)\n",
    "    tmp = df[name + '_fillna'].map(lambda x: w2v_model.wv[x])\n",
    "    tmp = pd.DataFrame(list(tmp))\n",
    "    tmp.columns = ['_'.join([name, 'emb', str(i)]) for i in range(vec_size)]\n",
    "    df = pd.concat([df, tmp], axis=1)\n",
    "    feats += list(tmp.columns)\n",
    "\n",
    "for name in ['mean', 'std', 'max', 'min', 'median', 'skew']:\n",
    "    for name1 in ['user_name', 'bus_system_code', 'auth_type', 'action',\n",
    "                  ]:  # 'op_target'\n",
    "\n",
    "        df[name1 + '_ts_diff_' + name] = df.groupby([name1])['ts_diff'].transform(name)\n",
    "        feats.append(name1 + '_ts_diff_' + name)\n",
    "\n",
    "df['if_out'] = (df['location'] == '{\"first_lvl\":\"成都分公司\",\"sec_lvl\":\"9楼\",\"third_lvl\":\"销售部\"}')\n",
    "feats.append('if_out')\n",
    "\n",
    "for name in ['user_name', 'action', 'auth_type', 'ip', 'ip_location_type_keyword', 'ip_risk_level', 'location',\n",
    "             'device_model', 'os_type', 'os_version', 'browser_type', 'browser_version', 'bus_system_code',\n",
    "             'op_target',\n",
    "             'location_first_lvl', 'location_sec_lvl', 'location_third_lvl',\n",
    "             ] + cat:\n",
    "    le = LabelEncoder()\n",
    "    df[name] = le.fit_transform(df[name])\n",
    "    # df[name] = df[name].astype('category')"
   ]
  },
  {
   "cell_type": "markdown",
   "id": "065e52f6",
   "metadata": {},
   "source": [
    "# 分离训练集和训练集，并对模型调参"
   ]
  },
  {
   "cell_type": "code",
   "execution_count": 5,
   "id": "41a460e5",
   "metadata": {
    "ExecuteTime": {
     "end_time": "2022-11-04T11:45:18.348162Z",
     "start_time": "2022-11-04T11:45:18.318574Z"
    },
    "scrolled": true
   },
   "outputs": [
    {
     "data": {
      "text/plain": [
       "['user_name',\n",
       " 'action',\n",
       " 'auth_type',\n",
       " 'ip_location_type_keyword',\n",
       " 'ip_risk_level',\n",
       " 'ip',\n",
       " 'location',\n",
       " 'device_model',\n",
       " 'os_type',\n",
       " 'os_version',\n",
       " 'browser_type',\n",
       " 'browser_version',\n",
       " 'bus_system_code',\n",
       " 'op_target',\n",
       " 'location_first_lvl',\n",
       " 'location_sec_lvl',\n",
       " 'location_third_lvl',\n",
       " 'sec',\n",
       " 'sec_sin',\n",
       " 'sec_cos',\n",
       " 'op_ts',\n",
       " 'last_ts',\n",
       " 'ts_diff',\n",
       " 'last_ts2',\n",
       " 'ts_diff2',\n",
       " 'auth_type_emb_0',\n",
       " 'auth_type_emb_1',\n",
       " 'auth_type_emb_2',\n",
       " 'auth_type_emb_3',\n",
       " 'auth_type_emb_4',\n",
       " 'auth_type_emb_5',\n",
       " 'user_name_ts_diff_mean',\n",
       " 'bus_system_code_ts_diff_mean',\n",
       " 'auth_type_ts_diff_mean',\n",
       " 'action_ts_diff_mean',\n",
       " 'user_name_ts_diff_std',\n",
       " 'bus_system_code_ts_diff_std',\n",
       " 'auth_type_ts_diff_std',\n",
       " 'action_ts_diff_std',\n",
       " 'user_name_ts_diff_max',\n",
       " 'bus_system_code_ts_diff_max',\n",
       " 'auth_type_ts_diff_max',\n",
       " 'action_ts_diff_max',\n",
       " 'user_name_ts_diff_min',\n",
       " 'bus_system_code_ts_diff_min',\n",
       " 'auth_type_ts_diff_min',\n",
       " 'action_ts_diff_min',\n",
       " 'user_name_ts_diff_median',\n",
       " 'bus_system_code_ts_diff_median',\n",
       " 'auth_type_ts_diff_median',\n",
       " 'action_ts_diff_median',\n",
       " 'user_name_ts_diff_skew',\n",
       " 'bus_system_code_ts_diff_skew',\n",
       " 'auth_type_ts_diff_skew',\n",
       " 'action_ts_diff_skew',\n",
       " 'if_out']"
      ]
     },
     "execution_count": 5,
     "metadata": {},
     "output_type": "execute_result"
    }
   ],
   "source": [
    "df_train = df[~df[LABEL].isna()].reset_index(drop=True)\n",
    "df_test = df[df[LABEL].isna()].reset_index(drop=True)\n",
    "\n",
    "params = {\n",
    "    'learning_rate': 0.06,\n",
    "    'boosting_type': 'gbdt',\n",
    "    'objective': 'binary',\n",
    "    'metric': 'auc',\n",
    "    'verbose': -1,\n",
    "    'seed': 2222,\n",
    "    'n_jobs': -1,\n",
    "}\n",
    "feats"
   ]
  },
  {
   "cell_type": "markdown",
   "id": "f7348d7d",
   "metadata": {},
   "source": [
    "# 使用n折交叉验证划分数据集（此处n取10）训练模型并进行预测"
   ]
  },
  {
   "cell_type": "code",
   "execution_count": 6,
   "id": "19f958ec",
   "metadata": {
    "ExecuteTime": {
     "end_time": "2022-11-04T11:45:21.417119Z",
     "start_time": "2022-11-04T11:45:18.349163Z"
    },
    "scrolled": true
   },
   "outputs": [
    {
     "name": "stdout",
     "output_type": "stream",
     "text": [
      "############################ 2022\n",
      "----------- 0\n",
      "Training until validation scores don't improve for 100 rounds\n"
     ]
    },
    {
     "name": "stderr",
     "output_type": "stream",
     "text": [
      "C:\\Users\\wgq\\AppData\\Local\\Programs\\Python\\Python310\\lib\\site-packages\\lightgbm\\engine.py:181: UserWarning: 'early_stopping_rounds' argument is deprecated and will be removed in a future release of LightGBM. Pass 'early_stopping()' callback via 'callbacks' argument instead.\n",
      "  _log_warning(\"'early_stopping_rounds' argument is deprecated and will be removed in a future release of LightGBM. \"\n",
      "C:\\Users\\wgq\\AppData\\Local\\Programs\\Python\\Python310\\lib\\site-packages\\lightgbm\\engine.py:239: UserWarning: 'verbose_eval' argument is deprecated and will be removed in a future release of LightGBM. Pass 'log_evaluation()' callback via 'callbacks' argument instead.\n",
      "  _log_warning(\"'verbose_eval' argument is deprecated and will be removed in a future release of LightGBM. \"\n"
     ]
    },
    {
     "name": "stdout",
     "output_type": "stream",
     "text": [
      "[100]\tvalid_0's auc: 0.518595\n",
      "Early stopping, best iteration is:\n",
      "[19]\tvalid_0's auc: 0.544581\n",
      "----------- 1\n",
      "Training until validation scores don't improve for 100 rounds\n"
     ]
    },
    {
     "name": "stderr",
     "output_type": "stream",
     "text": [
      "C:\\Users\\wgq\\AppData\\Local\\Programs\\Python\\Python310\\lib\\site-packages\\lightgbm\\engine.py:181: UserWarning: 'early_stopping_rounds' argument is deprecated and will be removed in a future release of LightGBM. Pass 'early_stopping()' callback via 'callbacks' argument instead.\n",
      "  _log_warning(\"'early_stopping_rounds' argument is deprecated and will be removed in a future release of LightGBM. \"\n",
      "C:\\Users\\wgq\\AppData\\Local\\Programs\\Python\\Python310\\lib\\site-packages\\lightgbm\\engine.py:239: UserWarning: 'verbose_eval' argument is deprecated and will be removed in a future release of LightGBM. Pass 'log_evaluation()' callback via 'callbacks' argument instead.\n",
      "  _log_warning(\"'verbose_eval' argument is deprecated and will be removed in a future release of LightGBM. \"\n"
     ]
    },
    {
     "name": "stdout",
     "output_type": "stream",
     "text": [
      "[100]\tvalid_0's auc: 0.506482\n",
      "Early stopping, best iteration is:\n",
      "[61]\tvalid_0's auc: 0.512482\n",
      "----------- 2\n"
     ]
    },
    {
     "name": "stderr",
     "output_type": "stream",
     "text": [
      "C:\\Users\\wgq\\AppData\\Local\\Programs\\Python\\Python310\\lib\\site-packages\\lightgbm\\engine.py:181: UserWarning: 'early_stopping_rounds' argument is deprecated and will be removed in a future release of LightGBM. Pass 'early_stopping()' callback via 'callbacks' argument instead.\n",
      "  _log_warning(\"'early_stopping_rounds' argument is deprecated and will be removed in a future release of LightGBM. \"\n",
      "C:\\Users\\wgq\\AppData\\Local\\Programs\\Python\\Python310\\lib\\site-packages\\lightgbm\\engine.py:239: UserWarning: 'verbose_eval' argument is deprecated and will be removed in a future release of LightGBM. Pass 'log_evaluation()' callback via 'callbacks' argument instead.\n",
      "  _log_warning(\"'verbose_eval' argument is deprecated and will be removed in a future release of LightGBM. \"\n"
     ]
    },
    {
     "name": "stdout",
     "output_type": "stream",
     "text": [
      "Training until validation scores don't improve for 100 rounds\n",
      "[100]\tvalid_0's auc: 0.541011\n",
      "Early stopping, best iteration is:\n",
      "[12]\tvalid_0's auc: 0.549965\n",
      "----------- 3\n"
     ]
    },
    {
     "name": "stderr",
     "output_type": "stream",
     "text": [
      "C:\\Users\\wgq\\AppData\\Local\\Programs\\Python\\Python310\\lib\\site-packages\\lightgbm\\engine.py:181: UserWarning: 'early_stopping_rounds' argument is deprecated and will be removed in a future release of LightGBM. Pass 'early_stopping()' callback via 'callbacks' argument instead.\n",
      "  _log_warning(\"'early_stopping_rounds' argument is deprecated and will be removed in a future release of LightGBM. \"\n",
      "C:\\Users\\wgq\\AppData\\Local\\Programs\\Python\\Python310\\lib\\site-packages\\lightgbm\\engine.py:239: UserWarning: 'verbose_eval' argument is deprecated and will be removed in a future release of LightGBM. Pass 'log_evaluation()' callback via 'callbacks' argument instead.\n",
      "  _log_warning(\"'verbose_eval' argument is deprecated and will be removed in a future release of LightGBM. \"\n"
     ]
    },
    {
     "name": "stdout",
     "output_type": "stream",
     "text": [
      "Training until validation scores don't improve for 100 rounds\n",
      "[100]\tvalid_0's auc: 0.498036\n",
      "Early stopping, best iteration is:\n",
      "[9]\tvalid_0's auc: 0.51458\n",
      "----------- 4\n"
     ]
    },
    {
     "name": "stderr",
     "output_type": "stream",
     "text": [
      "C:\\Users\\wgq\\AppData\\Local\\Programs\\Python\\Python310\\lib\\site-packages\\lightgbm\\engine.py:181: UserWarning: 'early_stopping_rounds' argument is deprecated and will be removed in a future release of LightGBM. Pass 'early_stopping()' callback via 'callbacks' argument instead.\n",
      "  _log_warning(\"'early_stopping_rounds' argument is deprecated and will be removed in a future release of LightGBM. \"\n",
      "C:\\Users\\wgq\\AppData\\Local\\Programs\\Python\\Python310\\lib\\site-packages\\lightgbm\\engine.py:239: UserWarning: 'verbose_eval' argument is deprecated and will be removed in a future release of LightGBM. Pass 'log_evaluation()' callback via 'callbacks' argument instead.\n",
      "  _log_warning(\"'verbose_eval' argument is deprecated and will be removed in a future release of LightGBM. \"\n"
     ]
    },
    {
     "name": "stdout",
     "output_type": "stream",
     "text": [
      "Training until validation scores don't improve for 100 rounds\n",
      "[100]\tvalid_0's auc: 0.560416\n",
      "[200]\tvalid_0's auc: 0.559718\n",
      "Early stopping, best iteration is:\n",
      "[169]\tvalid_0's auc: 0.567298\n",
      "----------- 5\n"
     ]
    },
    {
     "name": "stderr",
     "output_type": "stream",
     "text": [
      "C:\\Users\\wgq\\AppData\\Local\\Programs\\Python\\Python310\\lib\\site-packages\\lightgbm\\engine.py:181: UserWarning: 'early_stopping_rounds' argument is deprecated and will be removed in a future release of LightGBM. Pass 'early_stopping()' callback via 'callbacks' argument instead.\n",
      "  _log_warning(\"'early_stopping_rounds' argument is deprecated and will be removed in a future release of LightGBM. \"\n",
      "C:\\Users\\wgq\\AppData\\Local\\Programs\\Python\\Python310\\lib\\site-packages\\lightgbm\\engine.py:239: UserWarning: 'verbose_eval' argument is deprecated and will be removed in a future release of LightGBM. Pass 'log_evaluation()' callback via 'callbacks' argument instead.\n",
      "  _log_warning(\"'verbose_eval' argument is deprecated and will be removed in a future release of LightGBM. \"\n"
     ]
    },
    {
     "name": "stdout",
     "output_type": "stream",
     "text": [
      "Training until validation scores don't improve for 100 rounds\n",
      "[100]\tvalid_0's auc: 0.492348\n",
      "Early stopping, best iteration is:\n",
      "[4]\tvalid_0's auc: 0.504666\n",
      "----------- 6\n"
     ]
    },
    {
     "name": "stderr",
     "output_type": "stream",
     "text": [
      "C:\\Users\\wgq\\AppData\\Local\\Programs\\Python\\Python310\\lib\\site-packages\\lightgbm\\engine.py:181: UserWarning: 'early_stopping_rounds' argument is deprecated and will be removed in a future release of LightGBM. Pass 'early_stopping()' callback via 'callbacks' argument instead.\n",
      "  _log_warning(\"'early_stopping_rounds' argument is deprecated and will be removed in a future release of LightGBM. \"\n",
      "C:\\Users\\wgq\\AppData\\Local\\Programs\\Python\\Python310\\lib\\site-packages\\lightgbm\\engine.py:239: UserWarning: 'verbose_eval' argument is deprecated and will be removed in a future release of LightGBM. Pass 'log_evaluation()' callback via 'callbacks' argument instead.\n",
      "  _log_warning(\"'verbose_eval' argument is deprecated and will be removed in a future release of LightGBM. \"\n"
     ]
    },
    {
     "name": "stdout",
     "output_type": "stream",
     "text": [
      "Training until validation scores don't improve for 100 rounds\n",
      "[100]\tvalid_0's auc: 0.496424\n",
      "Early stopping, best iteration is:\n",
      "[85]\tvalid_0's auc: 0.501196\n",
      "----------- 7\n",
      "Training until validation scores don't improve for 100 rounds\n",
      "[100]\tvalid_0's auc: 0.5144\n"
     ]
    },
    {
     "name": "stderr",
     "output_type": "stream",
     "text": [
      "C:\\Users\\wgq\\AppData\\Local\\Programs\\Python\\Python310\\lib\\site-packages\\lightgbm\\engine.py:181: UserWarning: 'early_stopping_rounds' argument is deprecated and will be removed in a future release of LightGBM. Pass 'early_stopping()' callback via 'callbacks' argument instead.\n",
      "  _log_warning(\"'early_stopping_rounds' argument is deprecated and will be removed in a future release of LightGBM. \"\n",
      "C:\\Users\\wgq\\AppData\\Local\\Programs\\Python\\Python310\\lib\\site-packages\\lightgbm\\engine.py:239: UserWarning: 'verbose_eval' argument is deprecated and will be removed in a future release of LightGBM. Pass 'log_evaluation()' callback via 'callbacks' argument instead.\n",
      "  _log_warning(\"'verbose_eval' argument is deprecated and will be removed in a future release of LightGBM. \"\n"
     ]
    },
    {
     "name": "stdout",
     "output_type": "stream",
     "text": [
      "Early stopping, best iteration is:\n",
      "[36]\tvalid_0's auc: 0.525018\n",
      "----------- 8\n",
      "Training until validation scores don't improve for 100 rounds\n"
     ]
    },
    {
     "name": "stderr",
     "output_type": "stream",
     "text": [
      "C:\\Users\\wgq\\AppData\\Local\\Programs\\Python\\Python310\\lib\\site-packages\\lightgbm\\engine.py:181: UserWarning: 'early_stopping_rounds' argument is deprecated and will be removed in a future release of LightGBM. Pass 'early_stopping()' callback via 'callbacks' argument instead.\n",
      "  _log_warning(\"'early_stopping_rounds' argument is deprecated and will be removed in a future release of LightGBM. \"\n",
      "C:\\Users\\wgq\\AppData\\Local\\Programs\\Python\\Python310\\lib\\site-packages\\lightgbm\\engine.py:239: UserWarning: 'verbose_eval' argument is deprecated and will be removed in a future release of LightGBM. Pass 'log_evaluation()' callback via 'callbacks' argument instead.\n",
      "  _log_warning(\"'verbose_eval' argument is deprecated and will be removed in a future release of LightGBM. \"\n"
     ]
    },
    {
     "name": "stdout",
     "output_type": "stream",
     "text": [
      "[100]\tvalid_0's auc: 0.498189\n",
      "Early stopping, best iteration is:\n",
      "[5]\tvalid_0's auc: 0.50327\n",
      "----------- 9\n",
      "Training until validation scores don't improve for 100 rounds\n"
     ]
    },
    {
     "name": "stderr",
     "output_type": "stream",
     "text": [
      "C:\\Users\\wgq\\AppData\\Local\\Programs\\Python\\Python310\\lib\\site-packages\\lightgbm\\engine.py:181: UserWarning: 'early_stopping_rounds' argument is deprecated and will be removed in a future release of LightGBM. Pass 'early_stopping()' callback via 'callbacks' argument instead.\n",
      "  _log_warning(\"'early_stopping_rounds' argument is deprecated and will be removed in a future release of LightGBM. \"\n",
      "C:\\Users\\wgq\\AppData\\Local\\Programs\\Python\\Python310\\lib\\site-packages\\lightgbm\\engine.py:239: UserWarning: 'verbose_eval' argument is deprecated and will be removed in a future release of LightGBM. Pass 'log_evaluation()' callback via 'callbacks' argument instead.\n",
      "  _log_warning(\"'verbose_eval' argument is deprecated and will be removed in a future release of LightGBM. \"\n"
     ]
    },
    {
     "name": "stdout",
     "output_type": "stream",
     "text": [
      "[100]\tvalid_0's auc: 0.507881\n",
      "Early stopping, best iteration is:\n",
      "[6]\tvalid_0's auc: 0.525141\n"
     ]
    },
    {
     "data": {
      "text/plain": [
       "0.5279398137194593"
      ]
     },
     "execution_count": 6,
     "metadata": {},
     "output_type": "execute_result"
    }
   ],
   "source": [
    "seeds = [2022]\n",
    "oof = np.zeros(len(df_train))\n",
    "importance = 0\n",
    "fold_num = 10\n",
    "pred_y = pd.DataFrame()\n",
    "for seed in seeds:\n",
    "    print('############################', seed)\n",
    "    kf = StratifiedKFold(n_splits=fold_num, shuffle=True, random_state=seed)\n",
    "    for fold, (train_idx, val_idx) in enumerate(kf.split(df_train[feats], df_train[LABEL])):\n",
    "        print('-----------', fold)\n",
    "        train = lgb.Dataset(df_train.loc[train_idx, feats],\n",
    "                            df_train.loc[train_idx, LABEL])\n",
    "        val = lgb.Dataset(df_train.loc[val_idx, feats],\n",
    "                          df_train.loc[val_idx, LABEL])\n",
    "        model = lgb.train(params, train, valid_sets=val, num_boost_round=10000,\n",
    "                          early_stopping_rounds=100, verbose_eval=100)\n",
    "\n",
    "        oof[val_idx] += model.predict(df_train.loc[val_idx, feats]) / len(seeds)\n",
    "        pred_y['fold_%d_seed_%d' % (fold, seed)] = model.predict(df_test[feats])\n",
    "        importance += model.feature_importance(importance_type='gain') / fold_num\n",
    "\n",
    "df_train['oof'] = oof\n",
    "score = roc_auc_score(df_train[LABEL], df_train['oof'])\n",
    "score"
   ]
  },
  {
   "cell_type": "markdown",
   "id": "d2b1d5a2",
   "metadata": {},
   "source": [
    "# **获取特征重要性**"
   ]
  },
  {
   "cell_type": "code",
   "execution_count": 7,
   "id": "c2e12ffc",
   "metadata": {
    "ExecuteTime": {
     "end_time": "2022-11-04T11:45:21.433123Z",
     "start_time": "2022-11-04T11:45:21.419119Z"
    }
   },
   "outputs": [
    {
     "name": "stdout",
     "output_type": "stream",
     "text": [
      "                      name  importance\n",
      "24                ts_diff2  774.989928\n",
      "22                 ts_diff  696.405009\n",
      "20                   op_ts  635.318907\n",
      "19                 sec_cos  430.459783\n",
      "18                 sec_sin  426.589768\n",
      "17                     sec  408.136335\n",
      "21                 last_ts  322.308488\n",
      "23                last_ts2  228.533105\n",
      "51  user_name_ts_diff_skew  175.454799\n",
      "12         bus_system_code  148.798247\n"
     ]
    }
   ],
   "source": [
    "feats_importance = pd.DataFrame()\n",
    "feats_importance['name'] = feats\n",
    "feats_importance['importance'] = importance\n",
    "print(feats_importance.sort_values('importance', ascending=False)[:10])"
   ]
  },
  {
   "cell_type": "markdown",
   "id": "74c1f436",
   "metadata": {},
   "source": [
    "# 保存结果"
   ]
  },
  {
   "cell_type": "code",
   "execution_count": 8,
   "id": "55dde571",
   "metadata": {
    "ExecuteTime": {
     "end_time": "2022-11-04T11:45:21.481133Z",
     "start_time": "2022-11-04T11:45:21.435123Z"
    }
   },
   "outputs": [],
   "source": [
    "sub = pd.read_csv('data/submit_example.csv')\n",
    "pred_y = pred_y.mean(axis=1)\n",
    "sub['ret'] = pred_y\n",
    "sub[['id', 'ret']].to_csv('ans/lgb_5272.csv', index=False)\n",
    "# df_train.to_csv('train.csv')"
   ]
  }
 ],
 "metadata": {
  "kernelspec": {
   "display_name": "Python 3 (ipykernel)",
   "language": "python",
   "name": "python3"
  },
  "language_info": {
   "codemirror_mode": {
    "name": "ipython",
    "version": 3
   },
   "file_extension": ".py",
   "mimetype": "text/x-python",
   "name": "python",
   "nbconvert_exporter": "python",
   "pygments_lexer": "ipython3",
   "version": "3.10.3"
  },
  "toc": {
   "base_numbering": 1,
   "nav_menu": {},
   "number_sections": true,
   "sideBar": true,
   "skip_h1_title": false,
   "title_cell": "Table of Contents",
   "title_sidebar": "Contents",
   "toc_cell": false,
   "toc_position": {
    "height": "calc(100% - 180px)",
    "left": "10px",
    "top": "150px",
    "width": "460.8px"
   },
   "toc_section_display": true,
   "toc_window_display": true
  },
  "varInspector": {
   "cols": {
    "lenName": 16,
    "lenType": 16,
    "lenVar": 40
   },
   "kernels_config": {
    "python": {
     "delete_cmd_postfix": "",
     "delete_cmd_prefix": "del ",
     "library": "var_list.py",
     "varRefreshCmd": "print(var_dic_list())"
    },
    "r": {
     "delete_cmd_postfix": ") ",
     "delete_cmd_prefix": "rm(",
     "library": "var_list.r",
     "varRefreshCmd": "cat(var_dic_list()) "
    }
   },
   "position": {
    "height": "704.419px",
    "left": "-43.0625px",
    "right": "20px",
    "top": "396.875px",
    "width": "439.875px"
   },
   "types_to_exclude": [
    "module",
    "function",
    "builtin_function_or_method",
    "instance",
    "_Feature"
   ],
   "window_display": true
  },
  "widgets": {
   "application/vnd.jupyter.widget-state+json": {
    "state": {},
    "version_major": 2,
    "version_minor": 0
   }
  }
 },
 "nbformat": 4,
 "nbformat_minor": 5
}
